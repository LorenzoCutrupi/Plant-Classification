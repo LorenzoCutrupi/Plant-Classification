{
  "cells": [
    {
      "cell_type": "code",
      "execution_count": null,
      "metadata": {
        "colab": {
          "base_uri": "https://localhost:8080/"
        },
        "id": "VkUFeVVbfbNi",
        "outputId": "3d03d51a-d3ae-42ac-99eb-c2399ca1fbce"
      },
      "outputs": [
        {
          "output_type": "stream",
          "name": "stdout",
          "text": [
            "\u001b[K     |████████████████████████████████| 578.1 MB 28 kB/s \n",
            "\u001b[K     |████████████████████████████████| 438 kB 60.1 MB/s \n",
            "\u001b[K     |████████████████████████████████| 5.9 MB 35.9 MB/s \n",
            "\u001b[K     |████████████████████████████████| 1.7 MB 53.4 MB/s \n",
            "\u001b[?25h2.10.1\n"
          ]
        }
      ],
      "source": [
        "!pip install -q tensorflow==2.10.1\n",
        "\n",
        "import tensorflow as tf\n",
        "import numpy as np\n",
        "import os\n",
        "import random\n",
        "import pandas as pd\n",
        "import seaborn as sns\n",
        "import matplotlib as mpl\n",
        "import matplotlib.image as mpimg\n",
        "import matplotlib.pyplot as plt\n",
        "from sklearn.model_selection import train_test_split\n",
        "from sklearn.metrics import accuracy_score, f1_score, precision_score, recall_score\n",
        "from sklearn.metrics import confusion_matrix\n",
        "from tqdm import tqdm\n",
        "\n",
        "from keras.models import Sequential\n",
        "from keras.layers import Dense, Flatten\n",
        "\n",
        "tfk = tf.keras\n",
        "tfkl = tf.keras.layers\n",
        "print(tf.__version__)"
      ]
    },
    {
      "cell_type": "code",
      "execution_count": null,
      "metadata": {
        "id": "oq_AHI-Gi7YI"
      },
      "outputs": [],
      "source": [
        "#Importing dataset in \\content folder\n",
        "!unzip /content/training_dataset_homework1.zip\n",
        "!unzip /content/training_data_final_rotated.zip"
      ]
    },
    {
      "cell_type": "code",
      "execution_count": null,
      "metadata": {
        "id": "BVQXLEFOfbNo",
        "colab": {
          "base_uri": "https://localhost:8080/"
        },
        "outputId": "16b66c56-12a3-4cd7-ad9d-38895956db20"
      },
      "outputs": [
        {
          "output_type": "stream",
          "name": "stdout",
          "text": [
            "Looking in indexes: https://pypi.org/simple, https://us-python.pkg.dev/colab-wheels/public/simple/\n",
            "Collecting visualkeras\n",
            "  Downloading visualkeras-0.0.2-py3-none-any.whl (12 kB)\n",
            "Requirement already satisfied: pillow>=6.2.0 in /usr/local/lib/python3.7/dist-packages (from visualkeras) (7.1.2)\n",
            "Collecting aggdraw>=1.3.11\n",
            "  Downloading aggdraw-1.3.15-cp37-cp37m-manylinux_2_17_x86_64.manylinux2014_x86_64.whl (989 kB)\n",
            "\u001b[K     |████████████████████████████████| 989 kB 33.1 MB/s \n",
            "\u001b[?25hRequirement already satisfied: numpy>=1.18.1 in /usr/local/lib/python3.7/dist-packages (from visualkeras) (1.21.6)\n",
            "Installing collected packages: aggdraw, visualkeras\n",
            "Successfully installed aggdraw-1.3.15 visualkeras-0.0.2\n"
          ]
        }
      ],
      "source": [
        "# Download and import visualkeras library\n",
        "!pip install visualkeras\n",
        "import visualkeras"
      ]
    },
    {
      "cell_type": "code",
      "execution_count": null,
      "metadata": {
        "id": "gvswZGhefbNp",
        "colab": {
          "base_uri": "https://localhost:8080/"
        },
        "outputId": "bbf6b9f3-f9c0-4987-853e-35df1d6361ff"
      },
      "outputs": [
        {
          "output_type": "stream",
          "name": "stdout",
          "text": [
            "Looking in indexes: https://pypi.org/simple, https://us-python.pkg.dev/colab-wheels/public/simple/\n",
            "Collecting split-folders\n",
            "  Downloading split_folders-0.5.1-py3-none-any.whl (8.4 kB)\n",
            "Installing collected packages: split-folders\n",
            "Successfully installed split-folders-0.5.1\n"
          ]
        }
      ],
      "source": [
        "#library for splitting folders\n",
        "!pip install split-folders\n",
        "import splitfolders"
      ]
    },
    {
      "cell_type": "code",
      "execution_count": null,
      "metadata": {
        "colab": {
          "base_uri": "https://localhost:8080/"
        },
        "id": "LJMHkKB6fbNq",
        "outputId": "000c0159-cb31-408f-bf17-3f72d13b56a5"
      },
      "outputs": [
        {
          "output_type": "stream",
          "name": "stderr",
          "text": [
            "Copying files: 3542 files [00:00, 5541.69 files/s]\n",
            "Copying files: 3595 files [00:00, 7710.68 files/s]\n"
          ]
        }
      ],
      "source": [
        "import shutil\n",
        "\n",
        "base_directory = '/content/training_data_final'\n",
        "base_directory_rotated = '/content/training_data_final_clean_sp1ruotate/training_data_final_clean'\n",
        "\n",
        "#Splitting our dataset into training (clean images) and validation (all images)\n",
        "\n",
        "# Split with a ratio.\n",
        "# To only split into training and validation set, set a tuple to `ratio`, i.e, `(.8, .2)`.\n",
        "splitfolders.ratio(base_directory, output=\"data_splitted\", ratio=(.7, .3, .0), group_prefix=None, move=False)\n",
        "splitfolders.ratio(base_directory_rotated, output=\"data_rotated\", ratio=(1, 0, 0), group_prefix=None, move=False)\n",
        "\n",
        "dirs_rotated = []\n",
        "dirs_val = []\n",
        "dirs_test = []\n",
        "for dirname, _, filenames in os.walk(base_directory_rotated):\n",
        "    for filename in filenames:\n",
        "        dirs_rotated.append(dirname.split('/')[-1] + \"/\" + filename)   \n",
        "\n",
        "for dirname, _, filenames in os.walk('data_splitted/val'):\n",
        "    for filename in filenames:\n",
        "        dirs_val.append(dirname.split('/')[-1] + \"/\" + filename)\n",
        "for dirname, _, filenames in os.walk('data_splitted/test'):\n",
        "    for filename in filenames:\n",
        "        dirs_test.append(dirname.split('/')[-1] + \"/\" + filename)\n",
        "        \n",
        "for dir_rotated in dirs_rotated:\n",
        "    if (dir_rotated in dirs_val) or (dir_rotated in dirs_test):\n",
        "        if os.path.exists(\"data_rotated/train/\" + dir_rotated):\n",
        "            os.remove(\"data_rotated/train/\" + dir_rotated)"
      ]
    },
    {
      "cell_type": "code",
      "execution_count": null,
      "metadata": {
        "colab": {
          "base_uri": "https://localhost:8080/"
        },
        "id": "VFENcsV1fbNr",
        "outputId": "2dcaac58-5934-483a-8ed5-a9ac63139277"
      },
      "outputs": [
        {
          "output_type": "stream",
          "name": "stdout",
          "text": [
            "Found 2556 images belonging to 8 classes.\n",
            "Found 2556 images belonging to 8 classes.\n",
            "Found 1059 images belonging to 8 classes.\n",
            "Found 8 images belonging to 8 classes.\n"
          ]
        }
      ],
      "source": [
        "# Images are divided into folders, one for each class. \n",
        "# If the images are organized in such a way, we can exploit the \n",
        "# ImageDataGenerator to read them from disk.\n",
        "from tensorflow.keras.preprocessing.image import ImageDataGenerator\n",
        "\n",
        "training_dir = '/content/data_rotated/train'\n",
        "validation_dir = '/content/data_splitted/val'\n",
        "test_dir = '/content/data_splitted/test'\n",
        "\n",
        "\n",
        "# Create an instance of ImageDataGenerator for training\n",
        "train_data_gen = ImageDataGenerator()\n",
        "\n",
        "noaug_train_data_gen = ImageDataGenerator() # rescale value is multiplied to the image\n",
        "valid_data_gen = ImageDataGenerator()\n",
        "test_data_gen = ImageDataGenerator()\n",
        "\n",
        "# Obtain a data generator with the 'ImageDataGenerator.flow_from_directory' method\n",
        "noaug_train_gen = noaug_train_data_gen.flow_from_directory(directory=training_dir,\n",
        "                                                           target_size=(96,96),\n",
        "                                                           color_mode='rgb',\n",
        "                                                           classes=None, # can be set to labels\n",
        "                                                           class_mode='categorical',\n",
        "                                                           batch_size=32,\n",
        "                                                           shuffle= False\n",
        "                                                           )\n",
        "\n",
        "# Obtain a data generator with the 'ImageDataGenerator.flow_from_directory' method\n",
        "# Create an instance of ImageDataGenerator with Data Augmentation\n",
        "aug_train_data_gen = ImageDataGenerator(rotation_range=0.1,\n",
        "                                        height_shift_range=40,\n",
        "                                        width_shift_range=40,\n",
        "                                        zoom_range=0,\n",
        "                                        horizontal_flip=True,\n",
        "                                        vertical_flip=True, \n",
        "                                        fill_mode='reflect'\n",
        "                                       ) # rescale value is multiplied to the image\n",
        "\n",
        "# Obtain a data generator with the 'ImageDataGenerator.flow_from_directory' method\n",
        "aug_train_gen = aug_train_data_gen.flow_from_directory(directory=training_dir,\n",
        "                                                       target_size=(96,96),\n",
        "                                                       color_mode='rgb',\n",
        "                                                       classes=None, # can be set to labels\n",
        "                                                       class_mode='categorical',\n",
        "                                                       batch_size=32,\n",
        "                                                       shuffle= False #set to false if need to compare images\n",
        "                                                       )\n",
        "\n",
        "valid_gen = valid_data_gen.flow_from_directory(directory=validation_dir,\n",
        "                                               target_size=(96,96),\n",
        "                                               color_mode='rgb',\n",
        "                                               classes=None, # can be set to labels\n",
        "                                               class_mode='categorical',\n",
        "                                               batch_size=32,\n",
        "                                               shuffle=False)\n",
        "test_gen = test_data_gen.flow_from_directory(directory=test_dir,\n",
        "                                              target_size=(96,96),\n",
        "                                              color_mode='rgb',\n",
        "                                              classes=None, # can be set to labels\n",
        "                                              class_mode='categorical',\n",
        "                                              batch_size=8,\n",
        "                                              shuffle=False)"
      ]
    },
    {
      "cell_type": "code",
      "execution_count": null,
      "metadata": {
        "colab": {
          "base_uri": "https://localhost:8080/"
        },
        "id": "RmTG7B43mF3A",
        "outputId": "509ccf83-4b5b-4342-e8f8-b4ecb652491f"
      },
      "outputs": [
        {
          "output_type": "stream",
          "name": "stdout",
          "text": [
            "Mounted at /content/drive\n",
            "/content/drive/MyDrive/AN2DL\n"
          ]
        }
      ],
      "source": [
        "from google.colab import drive\n",
        "drive.mount('/content/drive')\n",
        "\n",
        "%cd /content/drive/MyDrive/AN2DL"
      ]
    },
    {
      "cell_type": "code",
      "execution_count": null,
      "metadata": {
        "id": "6dGbAP9cfbNu"
      },
      "outputs": [],
      "source": [
        "# Utility function to create folders and callbacks for training\n",
        "from datetime import datetime\n",
        "\n",
        "def create_folders_and_callbacks(model_name):\n",
        "\n",
        "  exps_dir = os.path.join('data_augmentation_experiments')\n",
        "  if not os.path.exists(exps_dir):\n",
        "      os.makedirs(exps_dir)\n",
        "\n",
        "  now = datetime.now().strftime('%b%d_%H-%M-%S')\n",
        "\n",
        "  exp_dir = os.path.join(exps_dir, model_name + '_' + str(now))\n",
        "  if not os.path.exists(exp_dir):\n",
        "      os.makedirs(exp_dir)\n",
        "      \n",
        "  callbacks = []\n",
        "\n",
        "  # Model checkpoint\n",
        "  # ----------------\n",
        "  ckpt_dir = os.path.join(exp_dir, 'ckpts')\n",
        "  if not os.path.exists(ckpt_dir):\n",
        "      os.makedirs(ckpt_dir)\n",
        "\n",
        "  ckpt_callback = tf.keras.callbacks.ModelCheckpoint(filepath=os.path.join(ckpt_dir, 'cp.ckpt'), \n",
        "                                                     save_weights_only=True, # True to save only weights\n",
        "                                                     save_best_only=True) # True to save only the best epoch \n",
        "  callbacks.append(ckpt_callback)\n",
        "\n",
        "  # Visualize Learning on Tensorboard\n",
        "  # ---------------------------------\n",
        "  tb_dir = os.path.join(exp_dir, 'tb_logs')\n",
        "  if not os.path.exists(tb_dir):\n",
        "      os.makedirs(tb_dir)\n",
        "      \n",
        "  # By default shows losses and metrics for both training and validation\n",
        "  tb_callback = tf.keras.callbacks.TensorBoard(log_dir=tb_dir, \n",
        "                                               profile_batch=0,\n",
        "                                               histogram_freq=1)  # if > 0 (epochs) shows weights histograms\n",
        "  callbacks.append(tb_callback)\n",
        "\n",
        "  # Early Stopping\n",
        "  # --------------\n",
        "  es_callback = tf.keras.callbacks.EarlyStopping(monitor='val_acc', patience=35, restore_best_weights=True)\n",
        "  callbacks.append(es_callback)\n",
        "\n",
        "  return callbacks"
      ]
    },
    {
      "cell_type": "code",
      "execution_count": null,
      "metadata": {
        "colab": {
          "base_uri": "https://localhost:8080/"
        },
        "id": "TE0pSbcxfbNu",
        "outputId": "379f2eca-78d2-4dab-8b7d-86fb56794f26"
      },
      "outputs": [
        {
          "output_type": "execute_result",
          "data": {
            "text/plain": [
              "153"
            ]
          },
          "metadata": {},
          "execution_count": 9
        }
      ],
      "source": [
        "# free some memory if necessary\n",
        "import gc\n",
        "gc.collect()"
      ]
    },
    {
      "cell_type": "code",
      "execution_count": null,
      "metadata": {
        "id": "yQNJG8IYfbNv"
      },
      "outputs": [],
      "source": [
        "def count_files(directory):\n",
        "  count = 0\n",
        "  for root_dir, cur_dir, files in os.walk(directory):\n",
        "      count += len(files)\n",
        "  return count"
      ]
    },
    {
      "cell_type": "code",
      "execution_count": null,
      "metadata": {
        "id": "HN28U-V9fbNv"
      },
      "outputs": [],
      "source": [
        "def get_class_weights(path):\n",
        "    num_classes = 8\n",
        "    num_images = count_files(path)\n",
        "    elements = np.zeros(8)\n",
        "    weights = np.zeros(8)\n",
        "\n",
        "    for i in range(num_classes):\n",
        "        elements[i] = count_files(path+\"/Species\"+str(i+1))\n",
        "        weights[i] = (1 / elements[i]) * (num_images / 8.0)\n",
        "\n",
        "    class_weight = {0: weights[0], 1: weights[1], 2: weights[2], 3: weights[3], 4: weights[4], 5: weights[5], 6: weights[6], 7: weights[7]}\n",
        "\n",
        "    return class_weight"
      ]
    },
    {
      "cell_type": "code",
      "execution_count": null,
      "metadata": {
        "colab": {
          "base_uri": "https://localhost:8080/"
        },
        "id": "Xx3nWAEbfbNv",
        "outputId": "ea489c11-9aed-4869-dbe7-86e45c82d26f"
      },
      "outputs": [
        {
          "output_type": "execute_result",
          "data": {
            "text/plain": [
              "{0: 1.0579470198675496,\n",
              " 1: 0.902542372881356,\n",
              " 2: 0.9508928571428571,\n",
              " 3: 0.9287790697674418,\n",
              " 4: 0.9050991501416431,\n",
              " 5: 2.1300000000000003,\n",
              " 6: 0.852,\n",
              " 7: 0.9342105263157894}"
            ]
          },
          "metadata": {},
          "execution_count": 12
        }
      ],
      "source": [
        "# to perform class weight training\n",
        "class_weight = get_class_weights(\"/content/data_rotated/train\")\n",
        "class_weight"
      ]
    },
    {
      "cell_type": "code",
      "execution_count": null,
      "metadata": {
        "id": "3dZv9JSvfbNw"
      },
      "outputs": [],
      "source": [
        "from tensorflow.keras.applications import convnext\n",
        "import sys\n",
        "from matplotlib import pyplot\n",
        "from keras.datasets import cifar10\n",
        "from keras.models import Sequential\n",
        "from keras.layers import Conv2D\n",
        "from keras.layers import MaxPooling2D\n",
        "from keras.layers import Dense\n",
        "from keras.layers import Flatten\n",
        "from keras.layers import Dropout\n",
        "from keras.layers import LayerNormalization\n",
        "from keras.layers import GlobalAveragePooling2D\n",
        "from keras import backend as K\n",
        "\n",
        "# build and training onto a \"with\" block that allows the use of both the GPUs\n",
        "# we did not use that features\n",
        "base_model = convnext.ConvNeXtXLarge(\n",
        "    model_name='convnext_xlarge',\n",
        "    include_top=False,\n",
        "    include_preprocessing=True,\n",
        "    weights='imagenet',\n",
        "    input_shape=(96,96,3)\n",
        ")\n",
        "base_model.trainable = False\n",
        "for layer in base_model.layers:\n",
        "    layer.trainable = False\n",
        "\n",
        "x = tfkl.GlobalAveragePooling2D()(base_model.output)\n",
        "x = tfkl.Dense(1024, activation='relu')(x)\n",
        "x = tfkl.Dropout(0.4)(x)\n",
        "x = tfkl.Dense(8, activation='softmax')(x)          \n",
        " \n",
        "model = tfk.Model( base_model.input, x)\n",
        "    \n",
        "optimizer = tf.keras.optimizers.RMSprop()\n",
        "model.compile(optimizer = optimizer,loss = 'binary_crossentropy',metrics = ['acc'])\n",
        "\n",
        "model.summary()\n",
        "visualkeras.layered_view(model, legend=True, spacing=20, scale_xy=10)"
      ]
    },
    {
      "cell_type": "code",
      "execution_count": null,
      "metadata": {
        "id": "OK6o8kvQfbNw"
      },
      "outputs": [],
      "source": [
        "#no aug training\n",
        "epochs = 10\n",
        "history = model.fit(\n",
        "    x = noaug_train_gen,\n",
        "    epochs = epochs,\n",
        "    validation_data = valid_gen,\n",
        "    callbacks = noaug_callbacks\n",
        ").history"
      ]
    },
    {
      "cell_type": "code",
      "source": [
        "# aug training\n",
        "aug_callbacks = create_folders_and_callbacks(model_name='TLNoAug')\n",
        "epochs = 40\n",
        "\n",
        "history = model.fit(\n",
        "    x = aug_rotated_gen,\n",
        "    epochs = epochs,\n",
        "    validation_data = valid_gen,\n",
        "    callbacks = aug_callbacks\n",
        ").history"
      ],
      "metadata": {
        "id": "AtLmi8iRQaCe"
      },
      "execution_count": null,
      "outputs": []
    },
    {
      "cell_type": "code",
      "source": [
        "# using class weight to balance dataset\n",
        "aug_callbacks = create_folders_and_callbacks(model_name='TLAug')\n",
        "epochs = 20\n",
        "\n",
        "history = model.fit(\n",
        "    x = aug_rotated_gen,\n",
        "    epochs = epochs,\n",
        "    validation_data = valid_gen,\n",
        "    callbacks = aug_callbacks,\n",
        "    class_weight = class_weight\n",
        ").history"
      ],
      "metadata": {
        "id": "gATw35ZTQgVF"
      },
      "execution_count": null,
      "outputs": []
    },
    {
      "cell_type": "code",
      "execution_count": null,
      "metadata": {
        "id": "QaCFmwXMirsS"
      },
      "outputs": [],
      "source": [
        "# Save best epoch model\n",
        "model.save(\"data_augmentation_experiments/TL\")"
      ]
    },
    {
      "cell_type": "code",
      "source": [
        "model = tfk.models.load_model('/content/drive/MyDrive/AN2DL/data_augmentation_experiments/TL')"
      ],
      "metadata": {
        "id": "tQm9LyyWiC6C"
      },
      "execution_count": null,
      "outputs": []
    },
    {
      "cell_type": "code",
      "execution_count": null,
      "metadata": {
        "id": "UsnTAcmlj2MB"
      },
      "outputs": [],
      "source": [
        "#tuning phase\n",
        "for layer in model.layers:\n",
        "    layer.trainable = True\n",
        "\n",
        "model.summary()"
      ]
    },
    {
      "cell_type": "code",
      "execution_count": null,
      "metadata": {
        "id": "rmTAesv3fbNw"
      },
      "outputs": [],
      "source": [
        "#first training with fine tuning using 1e-4 learning rate with adam\n",
        "\n",
        "from keras import backend as K\n",
        "\n",
        "optimizer = tf.keras.optimizers.Adam()\n",
        "K.set_value(optimizer.learning_rate, 1e-4)\n",
        "model.compile(optimizer = optimizer,loss = 'binary_crossentropy',metrics = ['acc'])\n",
        "noaug_callbacks = create_folders_and_callbacks(model_name='Test submit')\n",
        "history = model.fit(\n",
        "    x = aug_rotated_gen,\n",
        "    epochs = 30,\n",
        "    validation_data = valid_gen,\n",
        "    callbacks = noaug_callbacks,\n",
        "    class_weight = class_weight\n",
        ").history"
      ]
    },
    {
      "cell_type": "code",
      "source": [
        "#using now 1e-5 fine learning rate\n",
        "K.set_value(optimizer.learning_rate, 1e-5)\n",
        "model.compile(optimizer = optimizer,loss = 'binary_crossentropy',metrics = ['acc'])\n",
        "noaug_callbacks = create_folders_and_callbacks(model_name='Test submit')\n",
        "history = model.fit(\n",
        "    x = aug_rotated_gen,\n",
        "    epochs = 30,\n",
        "    validation_data = valid_gen,\n",
        "    callbacks = noaug_callbacks,\n",
        "    class_weight = class_weight\n",
        ").history"
      ],
      "metadata": {
        "id": "LGI2mOMgehpi"
      },
      "execution_count": null,
      "outputs": []
    },
    {
      "cell_type": "code",
      "execution_count": null,
      "metadata": {
        "colab": {
          "base_uri": "https://localhost:8080/"
        },
        "id": "DnzwfWbGfbNx",
        "outputId": "2baeab51-3e2f-49b9-d893-d25ce41d6179"
      },
      "outputs": [
        {
          "output_type": "stream",
          "name": "stderr",
          "text": [
            "WARNING:absl:Found untraced functions such as _jit_compiled_convolution_op, _jit_compiled_convolution_op, _jit_compiled_convolution_op, _jit_compiled_convolution_op while saving (showing 4 of 4). These functions will not be directly callable after loading.\n"
          ]
        }
      ],
      "source": [
        "# Save best epoch model\n",
        "model.save(\"data_augmentation_experiments/FT\")"
      ]
    },
    {
      "cell_type": "code",
      "execution_count": null,
      "metadata": {
        "id": "Mq9mo5R7fbNy"
      },
      "outputs": [],
      "source": [
        "labels = ['Species1',\n",
        "          'Species2',\n",
        "          'Species3',\n",
        "          'Species4',\n",
        "          'Species5',\n",
        "          'Species6',\n",
        "          'Species7',\n",
        "          'Species8']"
      ]
    },
    {
      "cell_type": "code",
      "execution_count": null,
      "metadata": {
        "colab": {
          "base_uri": "https://localhost:8080/",
          "height": 734
        },
        "id": "8ziDeQZsfbNy",
        "outputId": "ebec8a9c-935a-4ca5-c7e3-f8ddb01b8e1f"
      },
      "outputs": [
        {
          "output_type": "stream",
          "name": "stdout",
          "text": [
            "34/34 [==============================] - 15s 309ms/step\n",
            "Confusion Matrix\n",
            "[[ 55   0   0   0   0   0   0   0]\n",
            " [  2 152   0   0   0   1   3   1]\n",
            " [  0   0 154   0   0   0   0   0]\n",
            " [  0   1   5 144   2   0   0   1]\n",
            " [  0   0   3   4 152   0   0   0]\n",
            " [  1   1   0   0   0  64   0   0]\n",
            " [  0   0   0   0   0   0 160   1]\n",
            " [  6   3   1   0   0   0   1 141]]\n",
            "Classification Report\n",
            "              precision    recall  f1-score   support\n",
            "\n",
            "    Species1       0.86      1.00      0.92        55\n",
            "    Species2       0.97      0.96      0.96       159\n",
            "    Species3       0.94      1.00      0.97       154\n",
            "    Species4       0.97      0.94      0.96       153\n",
            "    Species5       0.99      0.96      0.97       159\n",
            "    Species6       0.98      0.97      0.98        66\n",
            "    Species7       0.98      0.99      0.98       161\n",
            "    Species8       0.98      0.93      0.95       152\n",
            "\n",
            "    accuracy                           0.97      1059\n",
            "   macro avg       0.96      0.97      0.96      1059\n",
            "weighted avg       0.97      0.97      0.97      1059\n",
            "\n"
          ]
        },
        {
          "output_type": "display_data",
          "data": {
            "text/plain": [
              "<Figure size 432x288 with 2 Axes>"
            ],
            "image/png": "[encoded data removed]"
          },
          "metadata": {
            "needs_background": "light"
          }
        }
      ],
      "source": [
        "#Confusion Matrix and Classification Report\n",
        "from sklearn.metrics import classification_report, confusion_matrix, ConfusionMatrixDisplay\n",
        "\n",
        "Y_pred = model.predict(valid_gen)\n",
        "y_pred = np.argmax(Y_pred, axis=1)\n",
        "print('Confusion Matrix')\n",
        "print(confusion_matrix(valid_gen.classes, y_pred))\n",
        "print('Classification Report')\n",
        "print(classification_report(valid_gen.classes, y_pred, target_names=labels))\n",
        "\n",
        "cm = confusion_matrix(valid_gen.classes, y_pred)\n",
        "\n",
        "disp = ConfusionMatrixDisplay(confusion_matrix=cm, display_labels=labels)\n",
        "\n",
        "disp.plot(cmap=plt.cm.Blues)\n",
        "plt.show()"
      ]
    }
  ],
  "metadata": {
    "accelerator": "GPU",
    "colab": {
      "provenance": []
    },
    "gpuClass": "standard",
    "kernelspec": {
      "display_name": "Python 3",
      "language": "python",
      "name": "python3"
    },
    "language_info": {
      "codemirror_mode": {
        "name": "ipython",
        "version": 3
      },
      "file_extension": ".py",
      "mimetype": "text/x-python",
      "name": "python",
      "nbconvert_exporter": "python",
      "pygments_lexer": "ipython3",
      "version": "3.7.12"
    }
  },
  "nbformat": 4,
  "nbformat_minor": 0
}